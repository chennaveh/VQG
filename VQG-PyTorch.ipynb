{
 "cells": [
  {
   "cell_type": "markdown",
   "metadata": {},
   "source": [
    "#### ATTENTION! - this notebook doesn't build the dataset. the sole purpose of this notebook is to train the GRU network and to predict question over images. (go to Download datasets.ipynb if you need to update specific files or split to train\\test sets) "
   ]
  },
  {
   "cell_type": "code",
   "execution_count": 25,
   "metadata": {},
   "outputs": [
    {
     "data": {
      "text/plain": [
       "device(type='cuda')"
      ]
     },
     "execution_count": 25,
     "metadata": {},
     "output_type": "execute_result"
    }
   ],
   "source": [
    "import glob,os\n",
    "from PIL import Image\n",
    "import numpy as np\n",
    "import matplotlib.pyplot as plt\n",
    "from pathlib import Path\n",
    "%matplotlib inline\n",
    "import pickle\n",
    "from tqdm import tqdm\n",
    "import pandas as pd\n",
    "from keras.preprocessing import image, sequence\n",
    "import nltk\n",
    "import torch\n",
    "from torch import autograd, nn, optim\n",
    "import torch.nn.functional as F\n",
    "from torch.utils import data\n",
    "import torchvision.models as models\n",
    "# from torch.utils.tensorboard import SummaryWriter\n",
    "import random\n",
    "device = torch.device('cuda' if torch.cuda.is_available() else 'cpu')\n",
    "device"
   ]
  },
  {
   "cell_type": "code",
   "execution_count": 26,
   "metadata": {},
   "outputs": [],
   "source": [
    "Create_FILES = False\n",
    "to_train=False\n",
    "UNKOWN_TOKEN = '<.UNKOWN.>'\n",
    "created_files_dir = 'vqg_created_files/'"
   ]
  },
  {
   "cell_type": "code",
   "execution_count": 27,
   "metadata": {},
   "outputs": [
    {
     "name": "stdout",
     "output_type": "stream",
     "text": [
      "num samples:  74098\n"
     ]
    },
    {
     "data": {
      "text/plain": [
       "['d9d0f748-0b08-4044-8e43-25eb43da3040.jpg#0\\tWhat grade is in this classroom',\n",
       " 'd9d0f748-0b08-4044-8e43-25eb43da3040.jpg#1\\tHow many children attend this class',\n",
       " 'd9d0f748-0b08-4044-8e43-25eb43da3040.jpg#2\\tIs this a preschool',\n",
       " 'd9d0f748-0b08-4044-8e43-25eb43da3040.jpg#3\\tWhy is there only two kids',\n",
       " 'd9d0f748-0b08-4044-8e43-25eb43da3040.jpg#4\\tHow much is the preschool']"
      ]
     },
     "execution_count": 27,
     "metadata": {},
     "output_type": "execute_result"
    }
   ],
   "source": [
    "token = 'VQg_text/VQG.token.txt'\n",
    "captions = open(token, 'r').read().strip().split('\\n')\n",
    "\n",
    "print(\"num samples: \",len(captions))\n",
    "captions[:5]"
   ]
  },
  {
   "cell_type": "markdown",
   "metadata": {},
   "source": [
    "## Creating a dictionary containing all the captions of the images"
   ]
  },
  {
   "cell_type": "code",
   "execution_count": 28,
   "metadata": {},
   "outputs": [
    {
     "data": {
      "text/plain": [
       "['What <.UNKOWN.> do these people belong to']"
      ]
     },
     "execution_count": 28,
     "metadata": {},
     "output_type": "execute_result"
    }
   ],
   "source": [
    "MIN_COUNT = 3\n",
    "\n",
    "\n",
    "vocabulary = [y for x in captions for y in x.split('\\t')[1].split()]\n",
    "fdist = nltk.FreqDist(vocabulary) #count the frequency of words\n",
    "\n",
    "image_question_dict = {}\n",
    "for i, row in enumerate(captions):\n",
    "    row = row.split('\\t')\n",
    "    row[0] = row[0][:len(row[0])-2]\n",
    "    row[1] = ' '.join([UNKOWN_TOKEN if fdist[x] < MIN_COUNT else x for x in row[1].split()])\n",
    "    if row[0] in image_question_dict:\n",
    "        if random.random()<0.5: # choose randomaly if to replace exsiting quest or to preserve last saved question\n",
    "            #image_question_dict[row[0]].append(row[1]) # uncomment this line (and comment the next one) if you want to append everything \n",
    "            image_question_dict[row[0]]=[row[1]]\n",
    "    else:\n",
    "        image_question_dict[row[0]] = [row[1]]\n",
    "image_question_dict['36096576__798005.jpg']"
   ]
  },
  {
   "cell_type": "code",
   "execution_count": 29,
   "metadata": {},
   "outputs": [
    {
     "data": {
      "text/plain": [
       "['VQg_Dataset/VQG_Dataset\\\\00051bba-46a4-4aac-876d-5c18bb32fc74.jpg',\n",
       " 'VQg_Dataset/VQG_Dataset\\\\00148e4c-3ff4-48e8-bb5c-5bf0ebc08c16.jpg',\n",
       " 'VQg_Dataset/VQG_Dataset\\\\001e8ec8-3b00-4396-a321-c00f9afe4de1.jpg',\n",
       " 'VQg_Dataset/VQG_Dataset\\\\0043f1ba-1028-4d37-9a7e-4f2204978749.jpg',\n",
       " 'VQg_Dataset/VQG_Dataset\\\\00472679-97c5-449a-9ece-4d55370344f4.jpg']"
      ]
     },
     "execution_count": 29,
     "metadata": {},
     "output_type": "execute_result"
    }
   ],
   "source": [
    "images = 'VQg_Dataset/VQG_Dataset/'\n",
    "# Contains all the images\n",
    "img_paths = glob.glob(images+'*.*')\n",
    "img_paths[:5]"
   ]
  },
  {
   "cell_type": "code",
   "execution_count": 30,
   "metadata": {},
   "outputs": [],
   "source": [
    "def split_data(l):\n",
    "    temp = []\n",
    "    for i in img_paths:\n",
    "        if i[len(images):] in l:\n",
    "            temp.append(i)\n",
    "    return temp"
   ]
  },
  {
   "cell_type": "code",
   "execution_count": 31,
   "metadata": {},
   "outputs": [
    {
     "name": "stdout",
     "output_type": "stream",
     "text": [
      "num of training images 6465\n",
      "num of validation images 3708\n",
      "num of test images 3699\n"
     ]
    }
   ],
   "source": [
    "# Getting the training images from all the images\n",
    "train_images_file = 'VQg_text/train.txt'\n",
    "train_images = set(open(train_images_file, 'r').read().strip().split('\\n'))\n",
    "train_img = split_data(train_images)\n",
    "print('num of training images',len(train_img))\n",
    "\n",
    "# Getting the validation images from all the images\n",
    "val_images_file = 'VQg_text/val.txt'\n",
    "val_images = set(open(val_images_file, 'r').read().strip().split('\\n'))\n",
    "val_img = split_data(val_images)\n",
    "print('num of validation images',len(val_images))\n",
    "\n",
    "# Getting the testing images from all the images\n",
    "test_images_file = 'VQg_text/test.txt'\n",
    "test_images = set(open(test_images_file, 'r').read().strip().split('\\n'))\n",
    "test_img = split_data(test_images)\n",
    "print('num of test images',len(test_images))"
   ]
  },
  {
   "cell_type": "markdown",
   "metadata": {},
   "source": [
    "We will feed these images to VGG-16 to get the encoded images. Hence we need to preprocess the images as the authors of VGG-16 did. The last layer of VGG-16 is the softmax classifier(FC layer with 1000 hidden neurons) which returns the probability of a class. This layer should be removed so as to get a feature representation of an image. We will use the last Dense layer(4096 hidden neurons) after popping the classifier layer. Hence the shape of the encoded image will be (1, 4096)"
   ]
  },
  {
   "cell_type": "code",
   "execution_count": 32,
   "metadata": {},
   "outputs": [],
   "source": [
    "def preprocess_input(x):\n",
    "    x /= 255.\n",
    "    x -= 0.5\n",
    "    x *= 2.\n",
    "    return x\n",
    "\n",
    "def preprocess(image_path):\n",
    "    img = image.load_img(image_path, target_size=(224, 224))\n",
    "    x = image.img_to_array(img)\n",
    "    x = preprocess_input(x)\n",
    "    return x\n",
    "\n",
    "# plt.imshow(np.squeeze(preprocess(train_img[0])))"
   ]
  },
  {
   "cell_type": "markdown",
   "metadata": {},
   "source": [
    "# Load pretrained CNN Model "
   ]
  },
  {
   "cell_type": "code",
   "execution_count": 33,
   "metadata": {},
   "outputs": [
    {
     "name": "stdout",
     "output_type": "stream",
     "text": [
      "VGG(\n",
      "  (features): Sequential(\n",
      "    (0): Conv2d(3, 64, kernel_size=(3, 3), stride=(1, 1), padding=(1, 1))\n",
      "    (1): ReLU(inplace)\n",
      "    (2): Conv2d(64, 64, kernel_size=(3, 3), stride=(1, 1), padding=(1, 1))\n",
      "    (3): ReLU(inplace)\n",
      "    (4): MaxPool2d(kernel_size=2, stride=2, padding=0, dilation=1, ceil_mode=False)\n",
      "    (5): Conv2d(64, 128, kernel_size=(3, 3), stride=(1, 1), padding=(1, 1))\n",
      "    (6): ReLU(inplace)\n",
      "    (7): Conv2d(128, 128, kernel_size=(3, 3), stride=(1, 1), padding=(1, 1))\n",
      "    (8): ReLU(inplace)\n",
      "    (9): MaxPool2d(kernel_size=2, stride=2, padding=0, dilation=1, ceil_mode=False)\n",
      "    (10): Conv2d(128, 256, kernel_size=(3, 3), stride=(1, 1), padding=(1, 1))\n",
      "    (11): ReLU(inplace)\n",
      "    (12): Conv2d(256, 256, kernel_size=(3, 3), stride=(1, 1), padding=(1, 1))\n",
      "    (13): ReLU(inplace)\n",
      "    (14): Conv2d(256, 256, kernel_size=(3, 3), stride=(1, 1), padding=(1, 1))\n",
      "    (15): ReLU(inplace)\n",
      "    (16): MaxPool2d(kernel_size=2, stride=2, padding=0, dilation=1, ceil_mode=False)\n",
      "    (17): Conv2d(256, 512, kernel_size=(3, 3), stride=(1, 1), padding=(1, 1))\n",
      "    (18): ReLU(inplace)\n",
      "    (19): Conv2d(512, 512, kernel_size=(3, 3), stride=(1, 1), padding=(1, 1))\n",
      "    (20): ReLU(inplace)\n",
      "    (21): Conv2d(512, 512, kernel_size=(3, 3), stride=(1, 1), padding=(1, 1))\n",
      "    (22): ReLU(inplace)\n",
      "    (23): MaxPool2d(kernel_size=2, stride=2, padding=0, dilation=1, ceil_mode=False)\n",
      "    (24): Conv2d(512, 512, kernel_size=(3, 3), stride=(1, 1), padding=(1, 1))\n",
      "    (25): ReLU(inplace)\n",
      "    (26): Conv2d(512, 512, kernel_size=(3, 3), stride=(1, 1), padding=(1, 1))\n",
      "    (27): ReLU(inplace)\n",
      "    (28): Conv2d(512, 512, kernel_size=(3, 3), stride=(1, 1), padding=(1, 1))\n",
      "    (29): ReLU(inplace)\n",
      "    (30): MaxPool2d(kernel_size=2, stride=2, padding=0, dilation=1, ceil_mode=False)\n",
      "  )\n",
      "  (avgpool): AdaptiveAvgPool2d(output_size=(7, 7))\n",
      "  (classifier): Sequential(\n",
      "    (0): Linear(in_features=25088, out_features=4096, bias=True)\n",
      "    (1): ReLU(inplace)\n",
      "    (2): Dropout(p=0.5)\n",
      "    (3): Linear(in_features=4096, out_features=4096, bias=True)\n",
      "    (4): ReLU(inplace)\n",
      "    (5): Identity()\n",
      "    (6): Identity()\n",
      "  )\n",
      ")\n"
     ]
    }
   ],
   "source": [
    "# if Create_FILES:\n",
    "cnn = models.vgg16(pretrained=True)\n",
    "\n",
    "for param in cnn.parameters():\n",
    "    param.requires_grad = False\n",
    "\n",
    "cnn.classifier[5] = nn.Identity()\n",
    "cnn.classifier[6] = nn.Identity()\n",
    "new_model = cnn.to(device)\n",
    "print(new_model)"
   ]
  },
  {
   "cell_type": "code",
   "execution_count": 34,
   "metadata": {},
   "outputs": [],
   "source": [
    "def encode(image):\n",
    "    image = torch.from_numpy(preprocess(image))\n",
    "    image = image.permute(2,0,1)\n",
    "    image = image.reshape(1,*image.shape).to(device)\n",
    "    temp_enc = new_model(image).squeeze(0)\n",
    "    \n",
    "    return temp_enc\n",
    "\n",
    "def encode_dataset(data_set, problematic_images):\n",
    "    '''\n",
    "    encode the images usng the pretrained CNN model we loaded for faster training\n",
    "    '''\n",
    "    encodings = {}\n",
    "    for img in tqdm(data_set):\n",
    "        try:\n",
    "            im_name = img[len(images):]\n",
    "            encodings[im_name] = encode(img)\n",
    "        except:\n",
    "            problematic_images += img+\"\\n\"\n",
    "    \n",
    "    return encodings, problematic_images"
   ]
  },
  {
   "cell_type": "code",
   "execution_count": 35,
   "metadata": {
    "scrolled": true
   },
   "outputs": [],
   "source": [
    "if Create_FILES:\n",
    "    '''\n",
    "    On first time set Create_FILES=True so the encoded images will be created.\n",
    "    '''\n",
    "    problematic_images = ''\n",
    "    encoding_train, problematic_images = encode_dataset(train_img, problematic_images)\n",
    "    encoding_test, problematic_images = encode_dataset(test_img, problematic_images)\n",
    "    encoding_val, problematic_images = encode_dataset(val_img, problematic_images)\n",
    "\n",
    "    print('train: {} test: {} val: {}'.format(len(encoding_train),len(encoding_test),len(encoding_val)))\n",
    "    print(\"problematic images: \",len(problematic_images.split('\\n')))\n",
    "\n",
    "if not os.path.exists(created_files_dir):\n",
    "    os.mkdir(created_files_dir)    "
   ]
  },
  {
   "cell_type": "code",
   "execution_count": 36,
   "metadata": {},
   "outputs": [],
   "source": [
    "def get_captions_for_dataset(data_set):\n",
    "    res = {}\n",
    "    for i in data_set:\n",
    "        if i[len(images):] in image_question_dict:\n",
    "            res[i] = image_question_dict[i[len(images):]]\n",
    "    return res"
   ]
  },
  {
   "cell_type": "markdown",
   "metadata": {},
   "source": [
    "## Load Encoded images and questions"
   ]
  },
  {
   "cell_type": "code",
   "execution_count": 37,
   "metadata": {},
   "outputs": [],
   "source": [
    "train_d = get_captions_for_dataset(train_img)\n",
    "val_d = get_captions_for_dataset(val_img)\n",
    "test_d = get_captions_for_dataset(test_img)\n",
    "\n",
    "if Create_FILES:\n",
    "\n",
    "    encoding_train = pickle.load(open(created_files_dir+'encoded_images_train_vgg16.p', 'rb'))\n",
    "    encoding_val   = pickle.load(open(created_files_dir + 'encoded_images_val_vgg16.p', 'rb'))\n",
    "    encoding_test  = pickle.load(open(created_files_dir+'encoded_images_test_vgg16.p', 'rb'))\n",
    "\n",
    "    with open(created_files_dir + \"img.pickle\",\"wb\")  as fh:\n",
    "        pickle.dump(img_paths,fh)\n",
    "\n",
    "    with open(created_files_dir + \"image_question_dict.pickle\",\"wb\")  as fh:\n",
    "        pickle.dump(image_question_dict,fh)\n",
    "\n",
    "    with open(created_files_dir + \"train_img.pickle\",\"wb\")  as fh:\n",
    "        pickle.dump(train_img,fh)\n",
    "\n",
    "    with open(created_files_dir + \"train_d.pickle\",\"wb\")  as fh:\n",
    "        pickle.dump(train_d,fh)\n",
    "\n",
    "    with open(created_files_dir + \"val_img.pickle\",\"wb\")  as fh:\n",
    "        pickle.dump(val_img,fh)\n",
    "\n",
    "    with open(created_files_dir + \"val_d.pickle\",\"wb\")  as fh:\n",
    "        pickle.dump(val_d,fh)\n",
    "\n",
    "    with open(created_files_dir + \"test_img.pickle\",\"wb\")  as fh:\n",
    "        pickle.dump(test_img,fh)\n",
    "\n",
    "    with open(created_files_dir + \"test_d.pickle\",\"wb\")  as fh:\n",
    "        pickle.dump(test_d,fh)\n",
    "\n",
    "    print('train: {} test: {} val: {}'.format(len(encoding_train),len(encoding_test),len(encoding_val)))"
   ]
  },
  {
   "cell_type": "markdown",
   "metadata": {},
   "source": [
    "Calculating the unique words in the vocabulary."
   ]
  },
  {
   "cell_type": "code",
   "execution_count": 38,
   "metadata": {},
   "outputs": [
    {
     "name": "stdout",
     "output_type": "stream",
     "text": [
      "4729 unique word\n"
     ]
    }
   ],
   "source": [
    "caps = []\n",
    "for key, val in train_d.items():\n",
    "    for i in val:\n",
    "        caps.append('<start> ' + i + ' <end>')\n",
    "        \n",
    "if Create_FILES:\n",
    "    with open(created_files_dir + \"caps.pickle\",\"wb\")  as fh:\n",
    "        pickle.dump(caps,fh)\n",
    "    print(\"all sentences:\",len(caps))\n",
    "    words = [i.split() for i in caps]\n",
    "    words.append('?')\n",
    "    unique = []\n",
    "    for i in tqdm(words):\n",
    "        unique.extend(i)\n",
    "    unique = list(set(unique))\n",
    "    vocab_size = len(unique)\n",
    "\n",
    "    with open(created_files_dir+\"unique.p\", \"wb\") as pickle_d:\n",
    "        pickle.dump(unique, pickle_d) \n",
    "    \n",
    "unique = pickle.load(open(created_files_dir+'unique.p', 'rb'))\n",
    "vocab_size = len(unique)\n",
    "\n",
    "print('{} unique word'.format(vocab_size))"
   ]
  },
  {
   "cell_type": "markdown",
   "metadata": {},
   "source": [
    "Mapping the unique words to indices and vice-versa"
   ]
  },
  {
   "cell_type": "code",
   "execution_count": 39,
   "metadata": {},
   "outputs": [],
   "source": [
    "word2idx = {val:index for index, val in enumerate(unique)}\n",
    "\n",
    "with open(created_files_dir + \"word2idx.pickle\",\"wb\")  as fh:\n",
    "    pickle.dump(word2idx,fh)\n",
    "    \n",
    "idx2word = {index:val for index, val in enumerate(unique)}\n",
    "\n",
    "with open(created_files_dir + \"idx2word.pickle\",\"wb\")  as fh:\n",
    "    pickle.dump(idx2word,fh)"
   ]
  },
  {
   "cell_type": "markdown",
   "metadata": {},
   "source": [
    "Calculating the maximum length among all the captions"
   ]
  },
  {
   "cell_type": "code",
   "execution_count": 40,
   "metadata": {},
   "outputs": [
    {
     "name": "stdout",
     "output_type": "stream",
     "text": [
      "max length 21\n"
     ]
    }
   ],
   "source": [
    "max_len = 0\n",
    "for c in caps:\n",
    "    c = c.split()\n",
    "    if len(c) > max_len:\n",
    "        max_len = len(c)\n",
    "\n",
    "with open(created_files_dir+\"max_len.pickle\",\"wb\") as fh:\n",
    "    pickle.dump(max_len,fh)\n",
    "    \n",
    "\n",
    "print('max length', max_len)"
   ]
  },
  {
   "cell_type": "markdown",
   "metadata": {},
   "source": [
    "Adding 'start' and 'end' to all the captions to indicate the starting and ending of a sentence. This will be used while we predict the caption of an image"
   ]
  },
  {
   "cell_type": "code",
   "execution_count": 41,
   "metadata": {},
   "outputs": [],
   "source": [
    "def word2idx_with_unkown(word2idx,x):\n",
    "    '''\n",
    "    return the idx of unkown token if the work is not known\n",
    "    '''\n",
    "    try:\n",
    "        if x in word2idx:\n",
    "            return word2idx[x]\n",
    "        else:\n",
    "            return word2idx[UNKOWN_TOKEN]\n",
    "    except:\n",
    "        print(\"shit\",x)\n",
    "\n",
    "def create_dataframe(dataset, filename, encoding):\n",
    "    '''\n",
    "    This fucntion created a pandas dataframe that holds our dataset.\n",
    "    one dataframe from the encoded, the other for the question and then join them togather\n",
    "    to create one set\n",
    "    '''\n",
    "    # Wrap captions with <start> and <end>\n",
    "    with open(created_files_dir + filename, 'w') as f:\n",
    "        f.write(\"image_id\\tcaptions\\n\")\n",
    "        for key, val in dataset.items():\n",
    "            for i in val:\n",
    "                f.write(key[len(images):] + \"\\t\" + \"<start> \" + i +\" <end>\" + \"\\n\")\n",
    "                \n",
    "    # create dataframe\n",
    "    df = pd.read_csv(created_files_dir + filename, delimiter='\\t')\n",
    "    df_encoded = pd.DataFrame.from_dict(encoding, orient='index')\n",
    "    \n",
    "    df['captions_idx'] = df['captions'].apply(lambda x: [word2idx_with_unkown(word2idx,i) for i in x.split()] + list(np.zeros(int(1.5*max_len)-len(x.split()),dtype='Int32') + word2idx['?']))\n",
    "\n",
    "    ll = []\n",
    "    for i in encoding:\n",
    "        ll.append([i,encoding[i]])\n",
    "    ll_df = pd.DataFrame(ll,columns=['image_id','encoded'])\n",
    "    joint_df = ll_df.join(df.set_index('image_id'), on='image_id')\n",
    "    del ll_df\n",
    "    del df\n",
    "    return joint_df"
   ]
  },
  {
   "cell_type": "code",
   "execution_count": 42,
   "metadata": {},
   "outputs": [],
   "source": [
    "if Create_FILES:\n",
    "    train_df = create_dataframe(train_d, 'VQG_training_dataset.txt', encoding_train)\n",
    "    val_df   = create_dataframe(val_d,   'VQG_validation_dataset.txt', encoding_val)\n",
    "    test_df  = create_dataframe(test_d,  'VQG_test_dataset.txt', encoding_test)\n",
    "    print('done createing data frames')\n",
    "    def create_tensor_dict(dataframe):\n",
    "        captions = torch.transpose(torch.stack([torch.tensor(x) for x in dataframe['captions_idx'].values], dim=1),0,1)\n",
    "        encodings = torch.transpose(torch.stack([torch.tensor(x) for x in dataframe['encoded'].values], dim=1),0,1)\n",
    "\n",
    "        data_dict = {}\n",
    "        data_dict['captions']  = captions\n",
    "        data_dict['encodings'] = encodings\n",
    "        return data_dict\n",
    "\n",
    "    train_data = create_tensor_dict(train_df.dropna())  # TODO - we have to make sure all text is available\n",
    "    val_data   = create_tensor_dict(val_df.dropna())\n",
    "    test_data  = create_tensor_dict(test_df.dropna())\n",
    "    print('done createing dictionary')\n",
    "    torch.save(test_data['captions'], created_files_dir+'test_data_captions.pt')\n",
    "    torch.save(test_data['encodings'], created_files_dir+'test_data_encodings.pt')\n",
    "\n",
    "    torch.save(train_data['captions'], created_files_dir+'train_data_captions.pt')\n",
    "    torch.save(train_data['encodings'], created_files_dir+'train_data_encodings.pt')\n",
    "\n",
    "    torch.save(val_data['captions'], created_files_dir+'val_data_captions.pt')\n",
    "    torch.save(val_data['encodings'], created_files_dir+'val_data_encodings.pt')"
   ]
  },
  {
   "cell_type": "code",
   "execution_count": 43,
   "metadata": {},
   "outputs": [
    {
     "data": {
      "text/plain": [
       "'VQg_Dataset/VQG_Dataset\\\\001e8ec8-3b00-4396-a321-c00f9afe4de1.jpg'"
      ]
     },
     "execution_count": 43,
     "metadata": {},
     "output_type": "execute_result"
    }
   ],
   "source": [
    "list(test_d.keys())[1]"
   ]
  },
  {
   "cell_type": "code",
   "execution_count": 44,
   "metadata": {},
   "outputs": [],
   "source": [
    "def load_datasets(path_captions,path_encodings): \n",
    "    '''\n",
    "    This function load the datasets we created previously\n",
    "    '''\n",
    "    data_dict = {}\n",
    "    data_dict['captions']  = torch.load(path_captions).to(device)\n",
    "    data_dict['encodings'] = torch.load(path_encodings).to(device)\n",
    "    return data_dict\n",
    "\n",
    "test_data = load_datasets(created_files_dir+'test_data_captions.pt',created_files_dir+'test_data_encodings.pt')\n",
    "train_data = load_datasets(created_files_dir+'train_data_captions.pt',created_files_dir+'train_data_encodings.pt')\n",
    "val_data = load_datasets(created_files_dir+'val_data_captions.pt',created_files_dir+'val_data_encodings.pt')"
   ]
  },
  {
   "cell_type": "markdown",
   "metadata": {},
   "source": [
    "## Build PyTorch Model"
   ]
  },
  {
   "cell_type": "code",
   "execution_count": 45,
   "metadata": {},
   "outputs": [],
   "source": [
    "class GRNN(nn.Module):\n",
    "    def __init__(self, hidden_size, embedding_size, output_size, fc_size_in,n_layers=1):\n",
    "        super(GRNN, self).__init__()\n",
    "        \n",
    "        # Keep parameters for reference\n",
    "        self.hidden_size = hidden_size\n",
    "        self.embedding_size = embedding_size\n",
    "        self.output_size = output_size\n",
    "        self.n_layers = n_layers\n",
    "       \n",
    "        # Define layers\n",
    "        self.fc = nn.Linear(fc_size_in,hidden_size)\n",
    "        self.embedding = nn.Embedding(output_size, embedding_size)\n",
    "        self.gru = nn.GRU(embedding_size, hidden_size, n_layers)\n",
    "        self.out = nn.Linear(hidden_size, output_size)\n",
    "        \n",
    "    def forward(self, word_input, last_hidden,isBegin):\n",
    "        # Note: we run this one step at a time (word by word...)     \n",
    "        # Get the embedding of the current input word (last output word)\n",
    "        if isBegin:           \n",
    "            temp= self.fc(last_hidden)\n",
    "\n",
    "        else:\n",
    "            temp = last_hidden\n",
    "                \n",
    "        word_embedded = self.embedding(word_input).view(1, word_input.size()[0], -1) # S=1 x B x N input of shape (seq_len, batch, input_size):\n",
    "\n",
    "        # run through LSTM\n",
    "        rnn_output, hidden = self.gru(word_embedded, temp)\n",
    "        \n",
    "        # Final output layer (next word prediction) \n",
    "        rnn_output = rnn_output.squeeze(0) # S=1 x B x N -> B x N\n",
    "        output = F.log_softmax(self.out(rnn_output), 1) #outputs are always from the top hidden layer\n",
    "        \n",
    "        # Return final output and hidden state\n",
    "        return output, hidden"
   ]
  },
  {
   "cell_type": "code",
   "execution_count": 46,
   "metadata": {},
   "outputs": [
    {
     "data": {
      "text/plain": [
       "('loss', 252.47291564941406)"
      ]
     },
     "execution_count": 46,
     "metadata": {},
     "output_type": "execute_result"
    }
   ],
   "source": [
    "# Sanity check with Simple Decoder\n",
    "#===============================\n",
    "DECODER_HIDDEN_SIZE = 500\n",
    "teacher = False\n",
    "teacher_forcing_ratio = 0.5\n",
    "batch_size = 128\n",
    "beam_size = 3\n",
    "\n",
    "def train_batch(word_inputs_GT,decoder_hidden,decoder,criterion):\n",
    "    q = ''\n",
    "    max_length = len(train_data['captions'][0])\n",
    "    loss = 0\n",
    "    word_inputs = word_inputs_GT[:,0]\n",
    "    batch_size = word_inputs_GT.size()[0]\n",
    "    \n",
    "    for i in range(max_length):\n",
    "        word_inputs, decoder_hidden = decoder(word_inputs, decoder_hidden.contiguous(),i==0)\n",
    "        output_model = word_inputs\n",
    "        word_inputs = torch.argmax(word_inputs, dim=1).to(device)\n",
    "\n",
    "\n",
    "        q += idx2word[int(word_inputs[6])] + ' '\n",
    "        use_teacher_forcing = random.random() < teacher_forcing_ratio\n",
    "        if use_teacher_forcing:\n",
    "            if i == len(word_inputs_GT[0]) - 1:\n",
    "                break\n",
    "            word_inputs = word_inputs_GT[:,i+1].to(device)\n",
    "            \n",
    "        if i < max_length - 1:  # dont train to use <start>\n",
    "            loss += criterion(output_model, word_inputs_GT[:,i+1])\n",
    "        else:\n",
    "            loss += criterion(output_model, torch.LongTensor(np.ones(batch_size) * word2idx['?']).to(device))\n",
    "    \n",
    "    q += '?'\n",
    "    return loss  # divide by batch size (loss per sample)\n",
    "\n",
    "decoder_test = GRNN(DECODER_HIDDEN_SIZE, 300, vocab_size,4096, 1).to(device)\n",
    "decoder_hidden = train_data['encodings'][0:batch_size].view(-1,batch_size,4096).to(device)\n",
    "word_inputs = train_data['captions'][0:batch_size].to(device)\n",
    "\n",
    "loss = train_batch(word_inputs,decoder_hidden,decoder_test,nn.CrossEntropyLoss())\n",
    "\"loss\",loss.item()"
   ]
  },
  {
   "cell_type": "code",
   "execution_count": 47,
   "metadata": {},
   "outputs": [],
   "source": [
    "criterion = nn.CrossEntropyLoss()\n",
    "LR = 0.0005\n",
    "teacher_forcing_ratio = 0.5\n",
    "\n",
    "def init_net(path,LR):\n",
    "    net = GRNN(DECODER_HIDDEN_SIZE, 300, vocab_size,4096, 1).to(device)\n",
    "    optimizer = optim.Adam(net.parameters(), lr=LR, betas=[0.9, 0.999])\n",
    "    \n",
    "    #tensorbaord specs\n",
    "#     TENSORBOARD_DIR = str(Path('/home/welad1992/thesis/Data/tensorsumery'))\n",
    "#     round_log = os.path.join(TENSORBOARD_DIR,str(type(net)).split('.')[1]+str(LR)+path)\n",
    "#     if not os.path.exists(TENSORBOARD_DIR):\n",
    "#         os.mkdir(TENSORBOARD_DIR)\n",
    "#     if not os.path.exists(round_log): \n",
    "#         os.mkdir(round_log)\n",
    "\n",
    "#     writer = SummaryWriter(round_log)\n",
    "    \n",
    "    return net,optimizer #,writer"
   ]
  },
  {
   "cell_type": "code",
   "execution_count": 48,
   "metadata": {},
   "outputs": [
    {
     "name": "stdout",
     "output_type": "stream",
     "text": [
      "25297\n"
     ]
    }
   ],
   "source": [
    "# net,optimizer,writer = init_net('VQG_test',LR)\n",
    "net,optimizer = init_net('VQG_test',LR)\n",
    "loss_history_cnn = []\n",
    "acc_history_cnn = []\n",
    "best_val_loss = 10000000\n",
    "max_epochs = 50\n",
    "batch_size = 128\n",
    "num_samples = len(train_data['captions'])\n",
    "print(num_samples)\n",
    "N = num_samples // batch_size // 10\n",
    "best_epoch = 0\n",
    "if to_train:\n",
    "    # Loop over some hyperparameter\n",
    "    teacher_forcing_ratio_list = [0.2,0.5,0.7]\n",
    "    LR_rates = [0.0001,0.0005,0.001,0.005,0.01]\n",
    "\n",
    "    for teacher_forcing_ratio in teacher_forcing_ratio_list:\n",
    "        for LR in LR_rates:\n",
    "            net,optimizer,writer = init_net(str(teacher_forcing_ratio)+'LR'+str(LR),LR)\n",
    "            print('TR: ',str(teacher_forcing_ratio),'LR: ',str(LR))\n",
    "            best_val_loss = 10000000\n",
    "            best_epoch = 0\n",
    "\n",
    "            for epoch in range(max_epochs):\n",
    "                if (epoch - best_epoch) > 4:  # early stop\n",
    "                    break\n",
    "\n",
    "                running_loss = 0\n",
    "                running_val_loss = 0.0\n",
    "                i = 0\n",
    "                for i in range(num_samples // batch_size):\n",
    "                    net.train()\n",
    "                    indices = np.random.choice(num_samples, batch_size)\n",
    "                    encodings = train_data['encodings'][indices]\n",
    "                    captions  = train_data['captions'][indices]\n",
    "\n",
    "                    encodings = encodings.view(-1,batch_size,4096)\n",
    "                    captions = captions.to(device)\n",
    "                    encodings = encodings.to(device)\n",
    "\n",
    "                    # zero the parameter gradients\n",
    "                    optimizer.zero_grad()\n",
    "                    train_loss = train_batch(captions, encodings, net, criterion)\n",
    "                    train_loss.backward()\n",
    "                    running_loss += train_loss.item()\n",
    "\n",
    "                    optimizer.step()\n",
    "\n",
    "                    if i % N == 0: #evaluate evey N iterations\n",
    "                        with torch.no_grad():\n",
    "                            net.eval()\n",
    "                            encodings_val = val_data['encodings'].view(-1,len(val_data['encodings']),4096).to(device)\n",
    "                            captions_val  = val_data['captions'].to(device)\n",
    "                            val_loss = train_batch(captions_val, encodings_val, net, criterion).item() # .item to get the loss value\n",
    "\n",
    "                        if  val_loss < best_val_loss:\n",
    "                            best_val_loss = val_loss\n",
    "                            best_net = net\n",
    "                            best_epoch = epoch\n",
    "\n",
    "\n",
    "                        writer.add_scalar('train',running_loss/(N+1))\n",
    "                        writer.add_scalar('val',val_loss)\n",
    "                        writer.add_scalar('best_val',best_val_loss)\n",
    "                        print('epoch {}, train_loss {:.2f}, val loss {:.2f}, best_val {:.2f} in epoch {}'.format(epoch, train_loss,val_loss,best_val_loss,best_epoch))\n",
    "                        running_loss = 0\n",
    "\n",
    "            torch.save(best_net.state_dict(), created_files_dir+\"model_epoch_{}_loss_{}_date_0109_LR_{}_TR_{}.json\".format(epoch,best_val_loss,LR,teacher_forcing_ratio)) \n",
    "    print('Done Training')\n"
   ]
  },
  {
   "cell_type": "code",
   "execution_count": 134,
   "metadata": {},
   "outputs": [],
   "source": [
    "def evaluate_batch(dataset,criterion,net,verbose=False,beam=1):\n",
    "    '''\n",
    "    maybe adding:\n",
    "    @param - batch_size\n",
    "\n",
    "    '''\n",
    "    num_samples = len(dataset['captions'])\n",
    "    max_length = max_len\n",
    "\n",
    "    loss=0.0\n",
    "    with torch.no_grad():\n",
    "        net.eval()\n",
    "        for sample in range(num_samples):\n",
    "\n",
    "            encodings = dataset['encodings'][sample]\n",
    "            captions  = dataset['captions'][sample]\n",
    "\n",
    "            encodings = encodings.view(-1,1,4096)\n",
    "            word_inputs = captions.to(device)\n",
    "            encodings = encodings.to(device)\n",
    "            word_inputs_GT = word_inputs\n",
    "            word_inputs = torch.unsqueeze(captions[0],dim=0).to(device)\n",
    "            decoder_hidden = encodings\n",
    "            \n",
    "            candidates = [(1, word_inputs, decoder_hidden, '')]\n",
    "            \n",
    "            for i in range(max_length):\n",
    "                new_candidates = []\n",
    "                for candidate in candidates:\n",
    "                    prob, word_inputs, decoder_hidden, question = candidate\n",
    "                    word_inputs, decoder_hidden = net(word_inputs, decoder_hidden.contiguous(),i==0)\n",
    "                    output_model = word_inputs\n",
    "\n",
    "                    best_idx = torch.argsort(word_inputs.squeeze(), descending=True)[:beam]\n",
    "\n",
    "                    for idx in best_idx:\n",
    "                        total_prob = prob + word_inputs.squeeze()[idx]\n",
    "                        new_candi = (total_prob, idx.unsqueeze(dim=0), decoder_hidden, question + idx2word[int(idx)] + ' ')\n",
    "                        new_candidates.append(new_candi)\n",
    "                \n",
    "                candidates = sorted(new_candidates)[-beam:]\n",
    "            best_sentence = sorted(candidates)[-1][-1]\n",
    "            \n",
    "            if verbose:\n",
    "                print('Question: ',best_sentence)\n",
    "                if len(dataset['captions'][0])>1:\n",
    "                    question_GT = [idx2word[int(captions[j])] + ' ' for j in range(max_length)]\n",
    "                    print('QGT: ',''.join(question_GT[1:]),'\\n')\n",
    "\n",
    "        return True#(loss.item()/max_length)/batch_size\n",
    "\n"
   ]
  },
  {
   "cell_type": "code",
   "execution_count": 54,
   "metadata": {},
   "outputs": [
    {
     "data": {
      "text/plain": [
       "10000000"
      ]
     },
     "execution_count": 54,
     "metadata": {},
     "output_type": "execute_result"
    }
   ],
   "source": [
    "# YOU CAN LOAD THE MODEL WITH THE BEST VAL LOSS:\n",
    "best_model_path = os.path.join(created_files_dir,\"model_epoch_6_loss_21.351837158203125_date_2808.json\")\n",
    "net.load_state_dict(torch.load(best_model_path))\n",
    "# net = best_net\n",
    "best_val_loss"
   ]
  },
  {
   "cell_type": "code",
   "execution_count": 55,
   "metadata": {},
   "outputs": [
    {
     "name": "stdout",
     "output_type": "stream",
     "text": [
      "Q 0 :  What kind of camera is that <end> ? ? ? ? ? ? ? ? ? ? ? ? ? ? \n",
      "QGT:  Are they in a submarine <end> ? ? ? ? ? ? ? ? ? ? ? ? ? ?  \n",
      "\n",
      "Q 1 :  Who's <.UNKOWN.> is that <end> ? ? ? ? ? ? ? ? ? ? ? ? ? ? ? ? \n",
      "QGT:  Did you attend this wedding <end> ? ? ? ? ? ? ? ? ? ? ? ? ? ?  \n",
      "\n",
      "Q 2 :  What kind of device is that <end> ? ? ? ? ? ? ? ? ? ? ? ? ? ? \n",
      "QGT:  Is this a <.UNKOWN.> for a gun <end> ? ? ? ? ? ? ? ? ? ? ? ?  \n",
      "\n",
      "Q 3 :  Who made the design <end> ? ? ? ? ? ? ? ? ? ? ? ? ? ? ? ? \n",
      "QGT:  Who is that a gift for <end> ? ? ? ? ? ? ? ? ? ? ? ? ?  \n",
      "\n",
      "Q 4 :  What model plane is that <end> ? ? ? ? ? ? ? ? ? ? ? ? ? ? ? \n",
      "QGT:  Is that plane a <.UNKOWN.> <end> ? ? ? ? ? ? ? ? ? ? ? ? ? ?  \n",
      "\n",
      "Q 5 :  What kind of horse is that <end> ? ? ? ? ? ? ? ? ? ? ? ? ? ? \n",
      "QGT:  How far did you have to <.UNKOWN.> <end> ? ? ? ? ? ? ? ? ? ? ? ?  \n",
      "\n",
      "Q 6 :  What are these people cooking <end> ? ? ? ? ? ? ? ? ? ? ? ? ? ? ? \n",
      "QGT:  Is this man transporting bananas <end> ? ? ? ? ? ? ? ? ? ? ? ? ? ?  \n",
      "\n",
      "Q 7 :  Is that a picture of your hand <end> ? ? ? ? ? ? ? ? ? ? ? ? ? \n",
      "QGT:  What is the person planning to cut <end> ? ? ? ? ? ? ? ? ? ? ? ?  \n",
      "\n"
     ]
    },
    {
     "ename": "KeyboardInterrupt",
     "evalue": "",
     "output_type": "error",
     "traceback": [
      "\u001b[1;31m---------------------------------------------------------------------------\u001b[0m",
      "\u001b[1;31mKeyboardInterrupt\u001b[0m                         Traceback (most recent call last)",
      "\u001b[1;32m<ipython-input-55-b426f5ce1acd>\u001b[0m in \u001b[0;36m<module>\u001b[1;34m\u001b[0m\n\u001b[0;32m      4\u001b[0m \u001b[0mmy_test\u001b[0m\u001b[1;33m[\u001b[0m\u001b[1;34m'captions'\u001b[0m\u001b[1;33m]\u001b[0m \u001b[1;33m=\u001b[0m \u001b[0mtest_data\u001b[0m\u001b[1;33m[\u001b[0m\u001b[1;34m'captions'\u001b[0m\u001b[1;33m]\u001b[0m\u001b[1;33m[\u001b[0m\u001b[1;36m300\u001b[0m\u001b[1;33m:\u001b[0m\u001b[1;36m300\u001b[0m\u001b[1;33m+\u001b[0m\u001b[0mmy_size\u001b[0m\u001b[1;33m:\u001b[0m\u001b[1;36m5\u001b[0m\u001b[1;33m]\u001b[0m\u001b[1;33m\u001b[0m\u001b[1;33m\u001b[0m\u001b[0m\n\u001b[0;32m      5\u001b[0m \u001b[0mteacher\u001b[0m \u001b[1;33m=\u001b[0m \u001b[1;32mFalse\u001b[0m\u001b[1;33m\u001b[0m\u001b[1;33m\u001b[0m\u001b[0m\n\u001b[1;32m----> 6\u001b[1;33m \u001b[0mprint\u001b[0m\u001b[1;33m(\u001b[0m\u001b[1;34m\"test_loss \"\u001b[0m\u001b[1;33m,\u001b[0m\u001b[0mevaluate_batch\u001b[0m\u001b[1;33m(\u001b[0m\u001b[0mmy_test\u001b[0m\u001b[1;33m,\u001b[0m\u001b[0mcriterion\u001b[0m\u001b[1;33m,\u001b[0m\u001b[0mnet\u001b[0m\u001b[1;33m,\u001b[0m\u001b[0mverbose\u001b[0m\u001b[1;33m=\u001b[0m\u001b[1;32mTrue\u001b[0m\u001b[1;33m,\u001b[0m\u001b[0mbeam\u001b[0m\u001b[1;33m=\u001b[0m\u001b[1;36m5\u001b[0m\u001b[1;33m)\u001b[0m\u001b[1;33m)\u001b[0m\u001b[1;33m\u001b[0m\u001b[1;33m\u001b[0m\u001b[0m\n\u001b[0m\u001b[0;32m      7\u001b[0m \u001b[0mprint\u001b[0m\u001b[1;33m(\u001b[0m\u001b[1;34m'Done Testing'\u001b[0m\u001b[1;33m)\u001b[0m\u001b[1;33m\u001b[0m\u001b[1;33m\u001b[0m\u001b[0m\n",
      "\u001b[1;32m<ipython-input-51-edf9448b8e85>\u001b[0m in \u001b[0;36mevaluate_batch\u001b[1;34m(dataset, criterion, net, verbose, beam)\u001b[0m\n\u001b[0;32m     29\u001b[0m                 \u001b[1;32mfor\u001b[0m \u001b[0mcandidate\u001b[0m \u001b[1;32min\u001b[0m \u001b[0mcandidates\u001b[0m\u001b[1;33m:\u001b[0m\u001b[1;33m\u001b[0m\u001b[1;33m\u001b[0m\u001b[0m\n\u001b[0;32m     30\u001b[0m                     \u001b[0mprob\u001b[0m\u001b[1;33m,\u001b[0m \u001b[0mword_inputs\u001b[0m\u001b[1;33m,\u001b[0m \u001b[0mdecoder_hidden\u001b[0m\u001b[1;33m,\u001b[0m \u001b[0mquestion\u001b[0m \u001b[1;33m=\u001b[0m \u001b[0mcandidate\u001b[0m\u001b[1;33m\u001b[0m\u001b[1;33m\u001b[0m\u001b[0m\n\u001b[1;32m---> 31\u001b[1;33m                     \u001b[0mword_inputs\u001b[0m\u001b[1;33m,\u001b[0m \u001b[0mdecoder_hidden\u001b[0m \u001b[1;33m=\u001b[0m \u001b[0mnet\u001b[0m\u001b[1;33m(\u001b[0m\u001b[0mword_inputs\u001b[0m\u001b[1;33m,\u001b[0m \u001b[0mdecoder_hidden\u001b[0m\u001b[1;33m.\u001b[0m\u001b[0mcontiguous\u001b[0m\u001b[1;33m(\u001b[0m\u001b[1;33m)\u001b[0m\u001b[1;33m,\u001b[0m\u001b[0mi\u001b[0m\u001b[1;33m==\u001b[0m\u001b[1;36m0\u001b[0m\u001b[1;33m)\u001b[0m\u001b[1;33m\u001b[0m\u001b[1;33m\u001b[0m\u001b[0m\n\u001b[0m\u001b[0;32m     32\u001b[0m                     \u001b[0moutput_model\u001b[0m \u001b[1;33m=\u001b[0m \u001b[0mword_inputs\u001b[0m\u001b[1;33m\u001b[0m\u001b[1;33m\u001b[0m\u001b[0m\n\u001b[0;32m     33\u001b[0m \u001b[1;33m\u001b[0m\u001b[0m\n",
      "\u001b[1;32m~\\Anaconda3\\envs\\mlpy37\\lib\\site-packages\\torch\\nn\\modules\\module.py\u001b[0m in \u001b[0;36m__call__\u001b[1;34m(self, *input, **kwargs)\u001b[0m\n\u001b[0;32m    491\u001b[0m             \u001b[0mresult\u001b[0m \u001b[1;33m=\u001b[0m \u001b[0mself\u001b[0m\u001b[1;33m.\u001b[0m\u001b[0m_slow_forward\u001b[0m\u001b[1;33m(\u001b[0m\u001b[1;33m*\u001b[0m\u001b[0minput\u001b[0m\u001b[1;33m,\u001b[0m \u001b[1;33m**\u001b[0m\u001b[0mkwargs\u001b[0m\u001b[1;33m)\u001b[0m\u001b[1;33m\u001b[0m\u001b[1;33m\u001b[0m\u001b[0m\n\u001b[0;32m    492\u001b[0m         \u001b[1;32melse\u001b[0m\u001b[1;33m:\u001b[0m\u001b[1;33m\u001b[0m\u001b[1;33m\u001b[0m\u001b[0m\n\u001b[1;32m--> 493\u001b[1;33m             \u001b[0mresult\u001b[0m \u001b[1;33m=\u001b[0m \u001b[0mself\u001b[0m\u001b[1;33m.\u001b[0m\u001b[0mforward\u001b[0m\u001b[1;33m(\u001b[0m\u001b[1;33m*\u001b[0m\u001b[0minput\u001b[0m\u001b[1;33m,\u001b[0m \u001b[1;33m**\u001b[0m\u001b[0mkwargs\u001b[0m\u001b[1;33m)\u001b[0m\u001b[1;33m\u001b[0m\u001b[1;33m\u001b[0m\u001b[0m\n\u001b[0m\u001b[0;32m    494\u001b[0m         \u001b[1;32mfor\u001b[0m \u001b[0mhook\u001b[0m \u001b[1;32min\u001b[0m \u001b[0mself\u001b[0m\u001b[1;33m.\u001b[0m\u001b[0m_forward_hooks\u001b[0m\u001b[1;33m.\u001b[0m\u001b[0mvalues\u001b[0m\u001b[1;33m(\u001b[0m\u001b[1;33m)\u001b[0m\u001b[1;33m:\u001b[0m\u001b[1;33m\u001b[0m\u001b[1;33m\u001b[0m\u001b[0m\n\u001b[0;32m    495\u001b[0m             \u001b[0mhook_result\u001b[0m \u001b[1;33m=\u001b[0m \u001b[0mhook\u001b[0m\u001b[1;33m(\u001b[0m\u001b[0mself\u001b[0m\u001b[1;33m,\u001b[0m \u001b[0minput\u001b[0m\u001b[1;33m,\u001b[0m \u001b[0mresult\u001b[0m\u001b[1;33m)\u001b[0m\u001b[1;33m\u001b[0m\u001b[1;33m\u001b[0m\u001b[0m\n",
      "\u001b[1;32m<ipython-input-45-29afaf20e22f>\u001b[0m in \u001b[0;36mforward\u001b[1;34m(self, word_input, last_hidden, isBegin)\u001b[0m\n\u001b[0;32m     27\u001b[0m \u001b[1;33m\u001b[0m\u001b[0m\n\u001b[0;32m     28\u001b[0m         \u001b[1;31m# run through LSTM\u001b[0m\u001b[1;33m\u001b[0m\u001b[1;33m\u001b[0m\u001b[1;33m\u001b[0m\u001b[0m\n\u001b[1;32m---> 29\u001b[1;33m         \u001b[0mrnn_output\u001b[0m\u001b[1;33m,\u001b[0m \u001b[0mhidden\u001b[0m \u001b[1;33m=\u001b[0m \u001b[0mself\u001b[0m\u001b[1;33m.\u001b[0m\u001b[0mgru\u001b[0m\u001b[1;33m(\u001b[0m\u001b[0mword_embedded\u001b[0m\u001b[1;33m,\u001b[0m \u001b[0mtemp\u001b[0m\u001b[1;33m)\u001b[0m\u001b[1;33m\u001b[0m\u001b[1;33m\u001b[0m\u001b[0m\n\u001b[0m\u001b[0;32m     30\u001b[0m \u001b[1;33m\u001b[0m\u001b[0m\n\u001b[0;32m     31\u001b[0m         \u001b[1;31m# Final output layer (next word prediction)\u001b[0m\u001b[1;33m\u001b[0m\u001b[1;33m\u001b[0m\u001b[1;33m\u001b[0m\u001b[0m\n",
      "\u001b[1;32m~\\Anaconda3\\envs\\mlpy37\\lib\\site-packages\\torch\\nn\\modules\\module.py\u001b[0m in \u001b[0;36m__call__\u001b[1;34m(self, *input, **kwargs)\u001b[0m\n\u001b[0;32m    491\u001b[0m             \u001b[0mresult\u001b[0m \u001b[1;33m=\u001b[0m \u001b[0mself\u001b[0m\u001b[1;33m.\u001b[0m\u001b[0m_slow_forward\u001b[0m\u001b[1;33m(\u001b[0m\u001b[1;33m*\u001b[0m\u001b[0minput\u001b[0m\u001b[1;33m,\u001b[0m \u001b[1;33m**\u001b[0m\u001b[0mkwargs\u001b[0m\u001b[1;33m)\u001b[0m\u001b[1;33m\u001b[0m\u001b[1;33m\u001b[0m\u001b[0m\n\u001b[0;32m    492\u001b[0m         \u001b[1;32melse\u001b[0m\u001b[1;33m:\u001b[0m\u001b[1;33m\u001b[0m\u001b[1;33m\u001b[0m\u001b[0m\n\u001b[1;32m--> 493\u001b[1;33m             \u001b[0mresult\u001b[0m \u001b[1;33m=\u001b[0m \u001b[0mself\u001b[0m\u001b[1;33m.\u001b[0m\u001b[0mforward\u001b[0m\u001b[1;33m(\u001b[0m\u001b[1;33m*\u001b[0m\u001b[0minput\u001b[0m\u001b[1;33m,\u001b[0m \u001b[1;33m**\u001b[0m\u001b[0mkwargs\u001b[0m\u001b[1;33m)\u001b[0m\u001b[1;33m\u001b[0m\u001b[1;33m\u001b[0m\u001b[0m\n\u001b[0m\u001b[0;32m    494\u001b[0m         \u001b[1;32mfor\u001b[0m \u001b[0mhook\u001b[0m \u001b[1;32min\u001b[0m \u001b[0mself\u001b[0m\u001b[1;33m.\u001b[0m\u001b[0m_forward_hooks\u001b[0m\u001b[1;33m.\u001b[0m\u001b[0mvalues\u001b[0m\u001b[1;33m(\u001b[0m\u001b[1;33m)\u001b[0m\u001b[1;33m:\u001b[0m\u001b[1;33m\u001b[0m\u001b[1;33m\u001b[0m\u001b[0m\n\u001b[0;32m    495\u001b[0m             \u001b[0mhook_result\u001b[0m \u001b[1;33m=\u001b[0m \u001b[0mhook\u001b[0m\u001b[1;33m(\u001b[0m\u001b[0mself\u001b[0m\u001b[1;33m,\u001b[0m \u001b[0minput\u001b[0m\u001b[1;33m,\u001b[0m \u001b[0mresult\u001b[0m\u001b[1;33m)\u001b[0m\u001b[1;33m\u001b[0m\u001b[1;33m\u001b[0m\u001b[0m\n",
      "\u001b[1;32m~\\Anaconda3\\envs\\mlpy37\\lib\\site-packages\\torch\\nn\\modules\\rnn.py\u001b[0m in \u001b[0;36mforward\u001b[1;34m(self, input, hx)\u001b[0m\n\u001b[0;32m    209\u001b[0m         \u001b[1;32mif\u001b[0m \u001b[0mbatch_sizes\u001b[0m \u001b[1;32mis\u001b[0m \u001b[1;32mNone\u001b[0m\u001b[1;33m:\u001b[0m\u001b[1;33m\u001b[0m\u001b[1;33m\u001b[0m\u001b[0m\n\u001b[0;32m    210\u001b[0m             result = _impl(input, hx, self._get_flat_weights(), self.bias, self.num_layers,\n\u001b[1;32m--> 211\u001b[1;33m                            self.dropout, self.training, self.bidirectional, self.batch_first)\n\u001b[0m\u001b[0;32m    212\u001b[0m         \u001b[1;32melse\u001b[0m\u001b[1;33m:\u001b[0m\u001b[1;33m\u001b[0m\u001b[1;33m\u001b[0m\u001b[0m\n\u001b[0;32m    213\u001b[0m             result = _impl(input, batch_sizes, hx, self._get_flat_weights(), self.bias,\n",
      "\u001b[1;31mKeyboardInterrupt\u001b[0m: "
     ]
    }
   ],
   "source": [
    "my_test = {}\n",
    "my_size = 300\n",
    "my_test['encodings'] = test_data['encodings'][300:300+my_size:5]\n",
    "my_test['captions'] = test_data['captions'][300:300+my_size:5]\n",
    "teacher = False\n",
    "print(\"test_loss \",evaluate_batch(my_test,criterion,net,verbose=True,beam=5))\n",
    "print('Done Testing')"
   ]
  },
  {
   "cell_type": "markdown",
   "metadata": {},
   "source": [
    "## Predict funtion"
   ]
  },
  {
   "cell_type": "code",
   "execution_count": 270,
   "metadata": {},
   "outputs": [],
   "source": [
    "## Load final Model ##\n",
    "best_model_path = os.path.join(created_files_dir,\"model_epoch_9_loss_22.435476303100586_date_0109_LR_0.001_TR_0.7.json\")\n",
    "net.load_state_dict(torch.load(best_model_path))\n",
    "final_model=net"
   ]
  },
  {
   "cell_type": "code",
   "execution_count": 272,
   "metadata": {
    "scrolled": false
   },
   "outputs": [
    {
     "name": "stdout",
     "output_type": "stream",
     "text": [
      "1144\n"
     ]
    },
    {
     "name": "stderr",
     "output_type": "stream",
     "text": [
      "Clipping input data to the valid range for imshow with RGB data ([0..1] for floats or [0..255] for integers).\n"
     ]
    },
    {
     "name": "stdout",
     "output_type": "stream",
     "text": [
      "Question GT:\n",
      "dict_keys(['VQg_Dataset/VQG_Dataset\\\\320533.jpg'])\n",
      "dict_values([['How tall are giraffes']]) \n",
      "\n",
      "Greedy search:\n",
      "Question:  How tall is that giraffe <end> ? ? ? ? ? ? ? ? ? ? ? ? ? ? ? \n",
      "Beam Search, k=5:\n",
      "Question:  How tall is that giraffe <end> ? ? ? ? ? ? ? ? ? ? ? ? ? ? ? \n",
      "Beam Search, k=7:\n",
      "Question:  How tall is that giraffe <end> ? ? ? ? ? ? ? ? ? ? ? ? ? ? ? \n"
     ]
    },
    {
     "data": {
      "image/png": "[encoded data removed]",
      "text/plain": [
       "<Figure size 432x288 with 1 Axes>"
      ]
     },
     "metadata": {
      "needs_background": "light"
     },
     "output_type": "display_data"
    }
   ],
   "source": [
    "index=random.randint(1,len(test_d)-1)\n",
    "print(index)\n",
    "filename = list(test_d.keys())[index]\n",
    "plt.imshow(np.squeeze(preprocess(filename)))\n",
    "my_test['encodings'] = encode(filename).view(1,1,4096)\n",
    "my_test['captions'] = torch.LongTensor([[word2idx['<start>']]])\n",
    "\n",
    "print('Question GT:')\n",
    "caption_test = get_captions_for_dataset([filename])\n",
    "print(caption_test.keys())\n",
    "print(caption_test.values(),'\\n')\n",
    "\n",
    "\n",
    "print ('Greedy search:')\n",
    "evaluate_batch(my_test,criterion,final_model,verbose=True,beam=1)\n",
    "# print ('Beam Search, k=3:')\n",
    "# evaluate_batch(my_test,criterion,final_model,verbose=True,beam=3)\n",
    "print ('Beam Search, k=5:')\n",
    "evaluate_batch(my_test,criterion,final_model,verbose=True,beam=5)\n",
    "print ('Beam Search, k=7:')\n",
    "evaluate_batch(my_test,criterion,final_model,verbose=True,beam=7)\n",
    "pass"
   ]
  },
  {
   "cell_type": "code",
   "execution_count": 268,
   "metadata": {},
   "outputs": [
    {
     "name": "stderr",
     "output_type": "stream",
     "text": [
      "Clipping input data to the valid range for imshow with RGB data ([0..1] for floats or [0..255] for integers).\n"
     ]
    },
    {
     "name": "stdout",
     "output_type": "stream",
     "text": [
      "Question GT:\n",
      "dict_keys([])\n",
      "dict_values([]) \n",
      "\n",
      "Greedy search:\n",
      "Question:  What is the couple in the yellow shirt <end> ? ? ? ? ? ? ? ? ? ? ? ? \n",
      "Beam Search, k=3:\n",
      "Question:  Is this a <.UNKOWN.> <.UNKOWN.> <end> ? ? ? ? ? ? ? ? ? ? ? ? ? ? ? \n",
      "Beam Search, k=5:\n",
      "Question:  What is her name <end> ? ? ? ? ? ? ? ? ? ? ? ? ? ? ? ? \n",
      "Beam Search, k=7:\n",
      "Question:  What is her name <end> ? ? ? ? ? ? ? ? ? ? ? ? ? ? ? ? \n"
     ]
    },
    {
     "data": {
      "image/png": "[encoded data removed]",
      "text/plain": [
       "<Figure size 432x288 with 1 Axes>"
      ]
     },
     "metadata": {
      "needs_background": "light"
     },
     "output_type": "display_data"
    }
   ],
   "source": [
    "index=80\n",
    "filename = 'VQg_Dataset/VQG_Dataset/50930589_10216121524483904_3082717303599529984_n.jpg'\n",
    "# filename = 'VQg_Dataset/VQG_Dataset/11062776_10207428964460293_1330488672886813997_n.jpg'\n",
    "# filename = list(test_d.keys())[index]\n",
    "plt.imshow(np.squeeze(preprocess(filename)))\n",
    "my_test['encodings'] = encode(filename).view(1,1,4096)\n",
    "my_test['captions'] = torch.LongTensor([[word2idx['<start>']]])\n",
    "\n",
    "print('Question GT:')\n",
    "caption_test = get_captions_for_dataset([filename])\n",
    "print(caption_test.keys())\n",
    "print(caption_test.values(),'\\n')\n",
    "\n",
    "\n",
    "\n",
    "print ('Greedy search:')\n",
    "evaluate_batch(my_test,criterion,final_model,verbose=True,beam=1)\n",
    "print ('Beam Search, k=3:')\n",
    "evaluate_batch(my_test,criterion,final_model,verbose=True,beam=3)\n",
    "print ('Beam Search, k=5:')\n",
    "evaluate_batch(my_test,criterion,final_model,verbose=True,beam=5)\n",
    "print ('Beam Search, k=7:')\n",
    "evaluate_batch(my_test,criterion,final_model,verbose=True,beam=7)\n",
    "pass"
   ]
  },
  {
   "cell_type": "code",
   "execution_count": null,
   "metadata": {},
   "outputs": [],
   "source": []
  },
  {
   "cell_type": "code",
   "execution_count": null,
   "metadata": {},
   "outputs": [],
   "source": []
  }
 ],
 "metadata": {
  "anaconda-cloud": {},
  "kernelspec": {
   "display_name": "Python 3",
   "language": "python",
   "name": "python3"
  },
  "language_info": {
   "codemirror_mode": {
    "name": "ipython",
    "version": 3
   },
   "file_extension": ".py",
   "mimetype": "text/x-python",
   "name": "python",
   "nbconvert_exporter": "python",
   "pygments_lexer": "ipython3",
   "version": "3.6.8"
  }
 },
 "nbformat": 4,
 "nbformat_minor": 2
}
